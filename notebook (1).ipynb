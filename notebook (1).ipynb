{
  "cells": [
    {
      "metadata": {
        "_cell_guid": "b1076dfc-b9ad-4769-8c92-a6c4dae69d19",
        "_uuid": "8f2839f25d086af736a60e9eeb907d3b93b6e0e5",
        "trusted": false,
        "collapsed": true
      },
      "cell_type": "code",
      "source": "import numpy as np \nimport pandas as pd \nimport os\nprint(os.listdir(\"../input\"))\nimport statsmodels.formula.api as stats\nfrom statsmodels.formula.api import ols\nimport sklearn\nfrom sklearn import linear_model, datasets\nfrom sklearn.metrics import mean_squared_error\nimport plotly.plotly as py \nimport plotly.graph_objs as go\nfrom plotly.offline import download_plotlyjs, init_notebook_mode, plot, iplot\ninit_notebook_mode(connected=True)",
      "execution_count": null,
      "outputs": []
    },
    {
      "metadata": {
        "_cell_guid": "0c3428d8-0ddd-4024-b300-4c0b52b374bf",
        "_uuid": "c16dccb2315e06a63c0a4d42a0ab98a11c448306"
      },
      "cell_type": "markdown",
      "source": " # Executive Summary\n  On March 20th, the world celebrates the International Day of Happiness. On this day, in 2017, the UN also release the World Happiness Report - a ranking of which countries in the world could be considered as \"happy\". This report contains 155 countries from each continent to construct an understanding of which countries may be the happiest. This ranking is revered across the globe, as it could be an indication of the country's policy-making decision skills. Experts around the world ( in economy, psychology, and foreign affairs) have noted that these scores may be a good indication of a country's progress - but of course, it is not the end all and be all of a country's progress. \n\nNow, you may be wondering, how exactly can happiness be determined? The UN looked at seven different variables and took a survey of the population in order to construct an overall \"happiness score\". This score was a measure of data taken by the Gallup World Poll. Questions were answered by asking individuals to rank each question about their life on a scale of 0 to 10, with 10 being living their best possible life, and 0 being living worse than the situation they are in at the moment of the survey. Also, they were asked to rate their current life on that survey as well. Each variable was then normalized and then compared against a Dystopia; a hypothetical country which would have the lowest score in all categories - and a lower score than the  lowest ranking country. While we cannot determine a conclusive impact of these variables on the Happiness Score, we can use them to get a better understanding of why some countries are ranked higher than other. \n\nUsing these seven variables, we can then attempt to construct a  linear regression model which may help us predict the happiness score in the 155 countries. We can then compare the predicted score to the actual score to observe how accurate how model is. Moving on, while are using these variables to just build an understanding of the ranking - we can still see which variable(s) are highly correlated with happiness score and if there are any differences in these variables between 2015 - 2017. Below are some questions that were asked and answered in this report, and an explanation of the variables used in the World Happiness Report. "
    },
    {
      "metadata": {
        "_cell_guid": "6445f875-24cf-4a41-8d22-6a19ae97b4bb",
        "_uuid": "9f11ab7e746a8810937fe0c7d439efb748fb304c"
      },
      "cell_type": "markdown",
      "source": "**Questions To Ask:**<br/> \n1) How can the Data be described? \n<br/> 2) Can we make a prediction model that will help us predict happiness score based on multiple variables? <br/>\n<br/>**Variables Used in Data: **<br/>\n<br/>Happiness Rank: A country's rank on a world scale - determined by how high their happiness score is. \n<br/>Happiness Score: A score given to a country based on adding up the rankings that a population has given to each category (normalized)\n<br/>Country: The country in question\n<br/>Region: The region that the country belongs too (different than continent) \n<br/>Economy: GDP per capita of the country - individuals rank they quality of life based on the amount they earn\n<br/>Family: quality of family life, nuclear and joint family \n<br/>Health: ranking healthcare availability and  average life expectancy in the country \n<br/>Freedom: how much an individual is able to conduct them self based on their free will\n<br/>Trust:  in the government to not be corrupt\n<br/>Generosity: how much their country is involved in peacekeeping and global aid\n<br/>Dystopia Residual: Dystopia happiness score (1.85) i.e. the score of a hypothetical country that has a lower rank than the lowest ranking country on the report, plus the residual value of each country (a number that is left over from the normalization of the variables which cannot be explained).\n\n     Personal Note: The reasoning for this variables is unclear in the research, but my understanding is that it helps us compare a country's happiness score against a hypothetical worse score in order to see where it ranks on the repo"
    },
    {
      "metadata": {
        "_cell_guid": "2227cd58-725b-4a7c-8d36-305b97fd35bd",
        "_uuid": "e5688ad925f11610dbefbb5693bd0e0bab3ac1cd"
      },
      "cell_type": "markdown",
      "source": "### 1. Preparing and  Describing the Data\nFirst, we begin by importing the data into Jupyter Notebook via pandas library. The data was open source data on Kaggle (link below). It was separated into three files if someone chose to analyze all three years separately. However, I decided that it would be interesting to observe the data from a holistic point of view. Therefore, once I imported the data and removed any columns that I felt were unnecessary to THIS analysis (standard error, region, etc.), I used pd.concate to put together all three data frames, and observe the overall happiness rank based on the past three years."
    },
    {
      "metadata": {
        "_cell_guid": "28f5b5d9-df0e-4c2f-9728-136f220b9f03",
        "_uuid": "b60aa4d9da1a1084400d7f3e0f03958d3acb8a04"
      },
      "cell_type": "markdown",
      "source": ""
    },
    {
      "metadata": {
        "_cell_guid": "79c7e3d0-c299-4dcb-8224-4455121ee9b0",
        "collapsed": true,
        "_uuid": "d629ff2d2480ee46fbb7e2d37f6b5fab8052498a",
        "trusted": false
      },
      "cell_type": "code",
      "source": "happiness_2015 = pd.read_csv(\"../input/2015.csv\")\nhappiness_2015.columns = ['Country', 'Region', 'Happiness_Rank', 'Happiness_Score',\n       'Standard Error', 'Economy', 'Family',\n       'Health', 'Freedom', 'Trust',\n       'Generosity', 'Dystopia_Residual']",
      "execution_count": null,
      "outputs": []
    },
    {
      "metadata": {
        "_cell_guid": "65961c36-09ff-496b-8847-7c066f1a3827",
        "collapsed": true,
        "_uuid": "fba51ccc43d36d7a59da43c34b2fcc8985a489d0",
        "trusted": false
      },
      "cell_type": "code",
      "source": "columns_2015 = ['Region', 'Standard Error']\nnew_dropped_2015 = happiness_2015.drop(columns_2015, axis=1)",
      "execution_count": null,
      "outputs": []
    },
    {
      "metadata": {
        "_cell_guid": "724a051d-2d01-4209-a618-4ef6f0d69de6",
        "collapsed": true,
        "_uuid": "0a2cae0653869dd554ce9bdf291244dbde08216a",
        "trusted": false
      },
      "cell_type": "code",
      "source": "happiness_2016 =  pd.read_csv(\"../input/2016.csv\")\ncolumns_2016 = ['Region', 'Lower Confidence Interval','Upper Confidence Interval' ]\ndropped_2016 = happiness_2016.drop(columns_2016, axis=1)\ndropped_2016.columns = ['Country', 'Happiness_Rank', 'Happiness_Score','Economy', 'Family',\n       'Health', 'Freedom', 'Trust',\n       'Generosity', 'Dystopia_Residual']",
      "execution_count": null,
      "outputs": []
    },
    {
      "metadata": {
        "_cell_guid": "7d831723-3e10-4629-8054-15b7f81cc7ee",
        "collapsed": true,
        "_uuid": "8f0ac82661bf4ff7254e0f2aeb9396e60cc0b3f6",
        "trusted": false
      },
      "cell_type": "code",
      "source": "happiness_2017 =  pd.read_csv(\"../input/2017.csv\")\ncolumns_2017 = ['Whisker.high','Whisker.low' ]\ndropped_2017 = happiness_2017.drop(columns_2017, axis=1)\ndropped_2017.columns = ['Country', 'Happiness_Rank', 'Happiness_Score','Economy', 'Family',\n       'Health', 'Freedom', 'Trust',\n       'Generosity', 'Dystopia_Residual']",
      "execution_count": null,
      "outputs": []
    },
    {
      "metadata": {
        "_cell_guid": "c89048a2-f15d-43ce-ae1e-661ec97f26a7",
        "collapsed": true,
        "_uuid": "5a34dacf4a0751f1458870c380bca7ced9965257",
        "trusted": false
      },
      "cell_type": "code",
      "source": "frames = [new_dropped_2015, dropped_2016, dropped_2017]\nhappiness = pd.concat(frames)",
      "execution_count": null,
      "outputs": []
    },
    {
      "metadata": {
        "_cell_guid": "87f1962d-d30c-4ae9-a293-a678e22e7360",
        "_uuid": "567ad4801c9f9a61221e2896afe7cd07037fa546"
      },
      "cell_type": "markdown",
      "source": "This is the data at a glance, as we can see, the top 5 countries with the highest score from 2015–2017 are Switzerland, Iceland, Denmark, Norway, and Canada (woo!). \nWhat does data mean from a statistical perspective? Well, the average score that a country received is around 5.37, the highest was 7.58, and the lowest score received was 2.69. The maximum normalized score that each category received was between 0.8 and 1.7 , and the minimum was around 0. While some individuals were very content with their country, others, not so much."
    },
    {
      "metadata": {
        "_cell_guid": "38b2661b-580c-41fb-a08b-3133c0ef0caf",
        "_uuid": "8151ee3156d7f688ea0b515260045b8ce4fe5277",
        "trusted": false,
        "collapsed": true
      },
      "cell_type": "code",
      "source": "happiness.head()",
      "execution_count": null,
      "outputs": []
    },
    {
      "metadata": {
        "_cell_guid": "8baead72-340c-4533-bcec-21732381b572",
        "_uuid": "4d5e463efa710870bd5293a65dc71bd0e0912dea",
        "trusted": false,
        "collapsed": true
      },
      "cell_type": "code",
      "source": "happiness.describe()",
      "execution_count": null,
      "outputs": []
    },
    {
      "metadata": {
        "_cell_guid": "22a738f6-c45b-4d95-b01f-b8c1dddbdb57",
        "_uuid": "7e0587c790a12443902764795ecf99184ce240a2"
      },
      "cell_type": "markdown",
      "source": "This visual gives us a more appealing view of where each country is placed in the World ranking report. \nHow to read the map: the darker colored countries (purple — blue) have the highest rating on the report (i.e. are the “happiest), while the lighter colored countries have a lower ranking. We can clearly see that countries in the European, and Americas region have a fairly high ranking than ones in the Asian and African regions."
    },
    {
      "metadata": {
        "_cell_guid": "b9f84d4a-7955-4096-9601-b6be7e3c5540",
        "_uuid": "23f841bcd48a9beac58ced988efa88557d0e8871",
        "trusted": false,
        "collapsed": true
      },
      "cell_type": "code",
      "source": "data6 = dict(type = 'choropleth', \n           locations = happiness['Country'],\n           locationmode = 'country names',\n           z = happiness['Happiness_Rank'], \n           text = happiness['Country'],\n          colorscale = 'Viridis', reversescale = False)\nlayout = dict(title = 'Happiness Rank Across the World', \n             geo = dict(showframe = False, \n                       projection = {'type': 'Mercator'}))\nchoromap6 = go.Figure(data = [data6], layout=layout)\niplot(choromap6)",
      "execution_count": null,
      "outputs": []
    },
    {
      "metadata": {
        "_cell_guid": "cb2cf5ab-b0a4-47f8-af2b-83e06e7531df",
        "collapsed": true,
        "_uuid": "11a909480c05d7214291637ab022851cb27d565e"
      },
      "cell_type": "markdown",
      "source": "Once again, this graphs shows us the countries rank by score — the countries that are a darker red have a higher score (thus are ranked higher). The countries with a lighter shade have a lower score."
    },
    {
      "metadata": {
        "_cell_guid": "8f5c589a-c853-48d9-a9a8-90da589cd207",
        "_uuid": "cc410f533fd1a9647485b8fc2c9492a510ee6ad7",
        "trusted": false,
        "collapsed": true
      },
      "cell_type": "code",
      "source": "data2 = dict(type = 'choropleth', \n           locations = happiness['Country'],\n           locationmode = 'country names',\n           z = happiness['Happiness_Score'], \n           text = happiness['Country'],\n           colorbar = {'title':'Happiness'})\nlayout = dict(title = 'Happiness Score Across the World', \n             geo = dict(showframe = False, \n                       projection = {'type': 'Mercator'}))\nchoromap3 = go.Figure(data = [data2], layout=layout)\niplot(choromap3)",
      "execution_count": null,
      "outputs": []
    },
    {
      "metadata": {
        "_cell_guid": "2890840f-9d09-404a-853a-3b884c1d93d8",
        "_uuid": "e7931b03e1a350b376af9da1f983d072a96caa2c"
      },
      "cell_type": "markdown",
      "source": "How are the two correlated? This may be an obvious question, but let us look at the relationship between rating and score."
    },
    {
      "metadata": {
        "_cell_guid": "5e784587-5e04-480a-abf4-0b84c4d30936",
        "_uuid": "3855eaf26dd5c502c8f32e84e463613956f415f2",
        "trusted": false,
        "collapsed": true
      },
      "cell_type": "code",
      "source": "trace4 = go.Scatter(\n    x = happiness.Happiness_Score,\n    y = happiness.Happiness_Rank,\n    mode = 'markers'\n)\ndata4 = [trace4]\nlayout = go.Layout(\n    title='Happiness Rank Determined by Score',\n    xaxis=dict(\n        title='Happiness Score',\n        titlefont=dict(\n            family='Courier New, monospace',\n            size=18,\n            color='#7f7f7f'\n        )\n    ),\n    yaxis=dict(\n        title='Happiness Rank',\n        titlefont=dict(\n            family='Courier New, monospace',\n            size=18,\n            color='#7f7f7f'\n        )\n    )\n)\n\nfig4 = go.Figure(data=data4, layout=layout)\niplot(fig4)",
      "execution_count": null,
      "outputs": []
    },
    {
      "metadata": {
        "_cell_guid": "98edbe8d-1163-4da2-92ab-3e8c96b1e0e4",
        "_uuid": "3f4cdf5999bc5b64552cd2c435ac3c32a4c1c5f1"
      },
      "cell_type": "markdown",
      "source": "This graph may be a little confusing at first — but let’s dissect it. Since happiness score determines how the country is ranked, we place happiness score as our predictor and the happiness rank as the dependent variable. The lower the happiness score number (less than 5) — the higher the numerical rank, but from a rating perspective, it is placed lower on the world happiness report. That is, if a country’s score is 4, it will be placed at around 147 = low population happiness. The opposite is also true, the higher the score the lower the numerical rank, and the higher the happiness rating. Therefore, happiness score and happiness rank has a strong negative correlation (as score increases, rank decreases) — which in this case is what you are aiming for. \n<br/>Although, happiness rank does not really tell us anything other than that in that year, where the country was placed. The important deciding variable seems to be score (as it determines rank). Thus, moving forward, let us explore the correlation between the other predictors (economy, family, trust, etc.) and happiness score. Then, try to construct a predictive model that will predict score based on these variables."
    },
    {
      "metadata": {
        "_cell_guid": "ed4d30cc-eb66-41a3-8dbd-01ca65bc4e4d",
        "_uuid": "00990da21bbc3934dd92a1d68cf17fe76ecd40b0"
      },
      "cell_type": "markdown",
      "source": "## 2. Constructive a Predictive Model for Happines Score (2015 - 2017) "
    },
    {
      "metadata": {
        "_cell_guid": "5745d406-bcd2-485d-b929-a9e49972927e",
        "_uuid": "95b031a4c506e2286148620c9b7175099133273d"
      },
      "cell_type": "markdown",
      "source": "To proceed with finding a predictive model, we first drop rank from our data frame as it does not really tell us anything important in the model itself. Then, we want to get an overall idea of which variables are correlating with each other strongly. Since our focus is happiness score, let’s concentrate on that column. \n<br/>The darker red the square, the stronger the positive correlation, and obviously, variables will have a correlation of 1 with each other. We can see that happiness score is really strongly correlated with economy, and health, followed by family and freedom. Thus, in our model, we should see that reflected when finding the coefficients. While trust and generosity to not have a strong positive correlation — we can see that they do have a negative correlation to happiness score, so it would be beneficial to observe these variables in our model as well."
    },
    {
      "metadata": {
        "_cell_guid": "b44c5695-b94c-40eb-baa2-09475e24b44a",
        "collapsed": true,
        "_uuid": "f80166d17a84db6bb6a69906712f2149bbcc058c",
        "trusted": false
      },
      "cell_type": "code",
      "source": "drop_rank = happiness.drop(\"Happiness_Rank\", axis = 1)",
      "execution_count": null,
      "outputs": []
    },
    {
      "metadata": {
        "_cell_guid": "52ca5d57-69ac-4e15-8226-f32ec23b591a",
        "_uuid": "aa4380680d198a313e3da002e190135b4be5dcb0",
        "trusted": false,
        "collapsed": true
      },
      "cell_type": "code",
      "source": "corr_matrix_happy = drop_rank.corr()\ntrace_corr_happy = go.Heatmap(z=np.array(corr_matrix_happy), x=corr_matrix_happy.columns, y=corr_matrix_happy.columns)\ndata_happy=[trace_corr_happy]\niplot(data_happy)",
      "execution_count": null,
      "outputs": []
    },
    {
      "metadata": {
        "_cell_guid": "081d5910-3f4e-404b-9cc1-6bf67afff58d",
        "_uuid": "42ae71ccc03991cec51f1faf986adabec189cb10"
      },
      "cell_type": "markdown",
      "source": "Moving on, now that we have a bit of an understanding of the relationship between variables, we can start to use SkLearn to construct a model. First, we drop any categorical variables, and the happiness rank as that is not something we are exploring in this report. (That being said, we can create dummy variables to look at relationships for countries)."
    },
    {
      "metadata": {
        "_cell_guid": "291a5bc0-598e-402c-ad43-a6b2971df3fe",
        "_uuid": "3faa6ae7b46affa8e4f9e36acc1a565506884963",
        "trusted": false,
        "collapsed": true
      },
      "cell_type": "code",
      "source": "dropped_happy = happiness.drop([\"Country\", \"Happiness_Rank\"], axis=1)\ndropped_happy.head()",
      "execution_count": null,
      "outputs": []
    },
    {
      "metadata": {
        "_cell_guid": "e49c1cbc-b1db-4deb-908b-d1b04279d7c3",
        "_uuid": "83782959ab7f5a861da44491b3ddf4fcd38a8726"
      },
      "cell_type": "markdown",
      "source": "Then, we import sklearn’s linear regression too create something similar to a “line of best fit” for our variables. We can find the intercept, and our coefficients (if you need a recap on these terms, you can check out my previous article on basic linear regression here)."
    },
    {
      "metadata": {
        "_cell_guid": "8f6c3f07-d674-43e7-af31-0d68f1ef8f65",
        "scrolled": true,
        "_uuid": "1c2aab0b8b0424c47fcf56767151a9f7b10a0651",
        "trusted": false,
        "collapsed": true
      },
      "cell_type": "code",
      "source": "#http://bigdata-madesimple.com/how-to-run-linear-regression-in-python-scikit-learn/\nfrom sklearn.linear_model import LinearRegression\nX = dropped_happy.drop(\"Happiness_Score\", axis = 1)\nlm = LinearRegression()\nlm.fit(X, dropped_happy.Happiness_Score)",
      "execution_count": null,
      "outputs": []
    },
    {
      "metadata": {
        "_cell_guid": "44eebbc1-f24f-4910-ae60-96e2efda8a18",
        "_uuid": "ce172ff672fcc6502acba8cb9fd93b204b77b59a",
        "trusted": false,
        "collapsed": true
      },
      "cell_type": "code",
      "source": "print(\"Estimated Intercept is\", lm.intercept_)",
      "execution_count": null,
      "outputs": []
    },
    {
      "metadata": {
        "_cell_guid": "d2e6af0b-3b29-4ade-877b-4c69ccd7a9b7",
        "_uuid": "50c4068c3e45bff505ff9cbe29a15e586e9d119e",
        "trusted": false,
        "collapsed": true
      },
      "cell_type": "code",
      "source": "print(\"The number of coefficients in this model are\", lm.coef_)",
      "execution_count": null,
      "outputs": []
    },
    {
      "metadata": {
        "_cell_guid": "ceb7406d-9cd0-40a2-9061-cd22b11d2d2d",
        "_uuid": "5573e9f3f72055057c2e1df5675c6c5aa64647fa",
        "trusted": false,
        "collapsed": true
      },
      "cell_type": "code",
      "source": "coef = zip(X.columns, lm.coef_)\ncoef_df = pd.DataFrame(list(zip(X.columns, lm.coef_)), columns=['features', 'coefficients'])\ncoef_df",
      "execution_count": null,
      "outputs": []
    },
    {
      "metadata": {
        "_cell_guid": "ff289f18-4c81-4476-ad70-a01771e35ad1",
        "_uuid": "d88c43be533622af13130c55e751e9e85e6fe066"
      },
      "cell_type": "markdown",
      "source": "Here we have our model. In order to get a better visual on our coefficients, I’ve organized them in a data frame view, so we can observe which the variables in question with their coefficients that affect our dependent variable (happiness score). \nUsing sklearn.predict, we can use this model to predict the happiness scores for the first 100 countries in our model. How do these predictions compare to the actual values in our data?"
    },
    {
      "metadata": {
        "_cell_guid": "d2a235a5-2978-499e-b733-2218ec71ae39",
        "_uuid": "51c44629b74e2ba847ddea95fa34d89da41e598b",
        "trusted": false,
        "collapsed": true
      },
      "cell_type": "code",
      "source": "lm.predict(X)[0:100]",
      "execution_count": null,
      "outputs": []
    },
    {
      "metadata": {
        "_cell_guid": "240355eb-5d34-42a2-aa35-86fc7d2384a3",
        "_uuid": "dc6035b61b52e8ae9e5c218952f66c163302c26d"
      },
      "cell_type": "markdown",
      "source": "Here, we have a plot of our actual happiness score versus the predicted happiness score. You can see that our model is a pretty good indicator of the actual happiness score! There are very small residuals, and there is a strong positive correlation between the two variables."
    },
    {
      "metadata": {
        "_cell_guid": "6a7d7f56-8958-4e35-859d-8e03719db6c0",
        "scrolled": true,
        "_uuid": "97c333fae37438cdc27a55990bf28aa26b3d97bb",
        "trusted": false,
        "collapsed": true
      },
      "cell_type": "code",
      "source": "trace = go.Scatter(\n    x = lm.predict(X),\n    y = dropped_happy.Happiness_Score,\n    mode = 'lines+markers'\n)\ndata = [trace]\nlayout = go.Layout(\n    title='Happiness Score vs. Predicted Happiness Score',\n    xaxis=dict(\n        title='Happiness Score',\n        titlefont=dict(\n            family='Courier New, monospace',\n            size=18,\n            color='#7f7f7f'\n        )\n    ),\n    yaxis=dict(\n        title='Predicted Happiness Score',\n        titlefont=dict(\n            family='Courier New, monospace',\n            size=18,\n            color='#7f7f7f'\n        )\n    )\n)\n\nfig = go.Figure(data=data, layout=layout)\niplot(fig)\n",
      "execution_count": null,
      "outputs": []
    },
    {
      "metadata": {
        "_cell_guid": "ca8038f9-8e20-4fa4-b2b0-2c6fa4312b6b",
        "_uuid": "f3da80111b5625f415b0b12d8295dc4dd33097fe"
      },
      "cell_type": "markdown",
      "source": "To do further testing on our model, we can look for the mean absolute error. This is the difference between two continuous variables, the lower the score, the better our model is at making predictions. As we can see, the score for our model when all are variables are involved is very low, 8.18 x 10e-8. \n<br>Is this the case however if we use just one variable? Perhaps we do not need all seven variables to predict happiness score. When we find the mean absolute error, we can see that the score is around 0.77. While this isn’t too bad, and if we wanted to, we can use just one or two variables, to get a better predicted happiness score, it would probably be beneficial to use the prior than the latter."
    },
    {
      "metadata": {
        "_cell_guid": "9cb8ec62-52fb-4b54-b0b2-e04a17ae8aa6",
        "_uuid": "12592c13082245da7656f0843cc005de7b466554",
        "trusted": false,
        "collapsed": true
      },
      "cell_type": "code",
      "source": "msehappy = np.mean((dropped_happy.Happiness_Score - lm.predict(X)) ** 2 ) \nprint(msehappy)",
      "execution_count": null,
      "outputs": []
    },
    {
      "metadata": {
        "_cell_guid": "f6b3984e-3bc0-46ba-962d-4c96f5c0c7b1",
        "_uuid": "1829719c01185345b990062a12b8796a79c6b74a",
        "trusted": false,
        "collapsed": true
      },
      "cell_type": "code",
      "source": "lm2=LinearRegression()\nlm2.fit(X[['Family']], dropped_happy.Happiness_Score)",
      "execution_count": null,
      "outputs": []
    },
    {
      "metadata": {
        "_cell_guid": "0506febb-2921-4a56-9b6b-be96c000efb8",
        "_uuid": "2e6c7a5de4546d09a9be7ebe2fc3b6d0f1e073c7",
        "trusted": false,
        "collapsed": true
      },
      "cell_type": "code",
      "source": "msefamily = np.mean((dropped_happy.Happiness_Score - lm2.predict(X[['Family']])) **2)\nprint(msefamily)",
      "execution_count": null,
      "outputs": []
    },
    {
      "metadata": {
        "_cell_guid": "6abd0545-436a-422a-b062-c83b8ce004bb",
        "collapsed": true,
        "_uuid": "d6220dbddd109e892f4d16d0a7c55e3787b1a3a9"
      },
      "cell_type": "markdown",
      "source": "**The Multiple Linear Regression Model for Happiness Score **\n<br/><b> $$ HappinessScore= 0.0001289 + 1.000041ecomomy + 1.000005family + 0.999869health + 0.999912freedom + 1.000020trust + 1.000006generosity + 0.999972DystopiaResidual $$<b/>"
    },
    {
      "metadata": {
        "_cell_guid": "12464e55-05ed-4dc7-beab-44608d3f6149",
        "_uuid": "f377f209ea411b5e14aa2435f452e099c08658c1"
      },
      "cell_type": "markdown",
      "source": "## Conclusions"
    },
    {
      "metadata": {
        "_cell_guid": "1003d45e-7f94-4ea9-aa03-3f2ac6b0620f",
        "collapsed": true,
        "_uuid": "d24fc1f7e735aacb43491c8c992b8c155997fdf4"
      },
      "cell_type": "markdown",
      "source": "In conclusion, our happiness score for world happiness can be used using the model above. By using sklearn, we have build a preliminary machine learning tool that will help us generate country scores, and the higher the score, the more highly ranked the happiness of that country will be. Of course, there is always tools and analysis you can do further to this model in order to make it more accurate, and better to use. It would be beneficial to further explore a comparison between the three years in our report, and also look at comparisons between subcontinents. Although, we have a pretty good start in order to further investigate this data."
    }
  ],
  "metadata": {
    "language_info": {
      "pygments_lexer": "ipython3",
      "mimetype": "text/x-python",
      "codemirror_mode": {
        "version": 3,
        "name": "ipython"
      },
      "version": "3.6.4",
      "nbconvert_exporter": "python",
      "name": "python",
      "file_extension": ".py"
    },
    "kernelspec": {
      "display_name": "Python 3",
      "language": "python",
      "name": "python3"
    }
  },
  "nbformat": 4,
  "nbformat_minor": 1
}